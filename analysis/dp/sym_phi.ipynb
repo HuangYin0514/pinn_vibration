{
 "cells": [
  {
   "cell_type": "code",
   "execution_count": 1,
   "metadata": {},
   "outputs": [],
   "source": [
    "from sympy import *"
   ]
  },
  {
   "cell_type": "code",
   "execution_count": 2,
   "metadata": {},
   "outputs": [],
   "source": [
    "l = Matrix(symbols(r'self.l[0:2]'))\n",
    "q = Matrix(symbols(r'q[\\:\\,0:4]'))\n",
    "dq = Matrix(symbols(r'dq[\\:\\,0:4]'))"
   ]
  },
  {
   "cell_type": "code",
   "execution_count": 9,
   "metadata": {},
   "outputs": [
    {
     "name": "stdout",
     "output_type": "stream",
     "text": [
      "Matrix([\n",
      "[                       q[:,0]**2 + q[:,1]**2 - self.l[0]**2],\n",
      "[-self.l[1]**2 + (q[:,0] - q[:,2])**2 + (q[:,1] - q[:,3])**2]])\n"
     ]
    },
    {
     "data": {
      "text/latex": [
       "$\\displaystyle \\left[\\begin{matrix}q[:,0]^{2} + q[:,1]^{2} - self.l[0]^{2}\\\\- self.l[1]^{2} + \\left(q[:,0] - q[:,2]\\right)^{2} + \\left(q[:,1] - q[:,3]\\right)^{2}\\end{matrix}\\right]$"
      ],
      "text/plain": [
       "Matrix([\n",
       "[                       q[:,0]**2 + q[:,1]**2 - self.l[0]**2],\n",
       "[-self.l[1]**2 + (q[:,0] - q[:,2])**2 + (q[:,1] - q[:,3])**2]])"
      ]
     },
     "execution_count": 9,
     "metadata": {},
     "output_type": "execute_result"
    }
   ],
   "source": [
    "phi=Matrix([q[0]**2+q[1]**2-l[0]**2, (q[0]-q[2])**2+(q[1]-q[3])**2-l[1]**2])\n",
    "print(phi.__repr__())\n",
    "phi"
   ]
  },
  {
   "cell_type": "code",
   "execution_count": 10,
   "metadata": {},
   "outputs": [
    {
     "name": "stdout",
     "output_type": "stream",
     "text": [
      "Matrix([\n",
      "[           2*q[:,0],            2*q[:,1],                    0,                    0],\n",
      "[2*q[:,0] - 2*q[:,2], 2*q[:,1] - 2*q[:,3], -2*q[:,0] + 2*q[:,2], -2*q[:,1] + 2*q[:,3]]])\n"
     ]
    },
    {
     "data": {
      "text/latex": [
       "$\\displaystyle \\left[\\begin{matrix}2 q[:,0] & 2 q[:,1] & 0 & 0\\\\2 q[:,0] - 2 q[:,2] & 2 q[:,1] - 2 q[:,3] & - 2 q[:,0] + 2 q[:,2] & - 2 q[:,1] + 2 q[:,3]\\end{matrix}\\right]$"
      ],
      "text/plain": [
       "Matrix([\n",
       "[           2*q[:,0],            2*q[:,1],                    0,                    0],\n",
       "[2*q[:,0] - 2*q[:,2], 2*q[:,1] - 2*q[:,3], -2*q[:,0] + 2*q[:,2], -2*q[:,1] + 2*q[:,3]]])"
      ]
     },
     "execution_count": 10,
     "metadata": {},
     "output_type": "execute_result"
    }
   ],
   "source": [
    "phi_q = phi.jacobian(q)\n",
    "print(phi_q.__repr__())\n",
    "phi_q"
   ]
  },
  {
   "cell_type": "code",
   "execution_count": 5,
   "metadata": {},
   "outputs": [
    {
     "name": "stdout",
     "output_type": "stream",
     "text": [
      "Matrix([[2*dq[:,0]*q[:,0] + 2*dq[:,1]*q[:,1]], [dq[:,0]*(2*q[:,0] - 2*q[:,2]) + dq[:,1]*(2*q[:,1] - 2*q[:,3]) + dq[:,2]*(-2*q[:,0] + 2*q[:,2]) + dq[:,3]*(-2*q[:,1] + 2*q[:,3])]])\n"
     ]
    },
    {
     "data": {
      "text/latex": [
       "$\\displaystyle \\left[\\begin{matrix}2 dq[:,0] q[:,0] + 2 dq[:,1] q[:,1]\\\\dq[:,0] \\left(2 q[:,0] - 2 q[:,2]\\right) + dq[:,1] \\left(2 q[:,1] - 2 q[:,3]\\right) + dq[:,2] \\left(- 2 q[:,0] + 2 q[:,2]\\right) + dq[:,3] \\left(- 2 q[:,1] + 2 q[:,3]\\right)\\end{matrix}\\right]$"
      ],
      "text/plain": [
       "Matrix([\n",
       "[                                                                                            2*dq[:,0]*q[:,0] + 2*dq[:,1]*q[:,1]],\n",
       "[dq[:,0]*(2*q[:,0] - 2*q[:,2]) + dq[:,1]*(2*q[:,1] - 2*q[:,3]) + dq[:,2]*(-2*q[:,0] + 2*q[:,2]) + dq[:,3]*(-2*q[:,1] + 2*q[:,3])]])"
      ]
     },
     "execution_count": 5,
     "metadata": {},
     "output_type": "execute_result"
    }
   ],
   "source": [
    "phi_q_dq = phi_q*dq\n",
    "print(phi_q_dq)\n",
    "phi_q_dq"
   ]
  },
  {
   "cell_type": "code",
   "execution_count": 11,
   "metadata": {},
   "outputs": [
    {
     "name": "stdout",
     "output_type": "stream",
     "text": [
      "Matrix([\n",
      "[            2*dq[:,0],             2*dq[:,1],                      0,                      0],\n",
      "[2*dq[:,0] - 2*dq[:,2], 2*dq[:,1] - 2*dq[:,3], -2*dq[:,0] + 2*dq[:,2], -2*dq[:,1] + 2*dq[:,3]]])\n"
     ]
    },
    {
     "data": {
      "text/latex": [
       "$\\displaystyle \\left[\\begin{matrix}2 dq[:,0] & 2 dq[:,1] & 0 & 0\\\\2 dq[:,0] - 2 dq[:,2] & 2 dq[:,1] - 2 dq[:,3] & - 2 dq[:,0] + 2 dq[:,2] & - 2 dq[:,1] + 2 dq[:,3]\\end{matrix}\\right]$"
      ],
      "text/plain": [
       "Matrix([\n",
       "[            2*dq[:,0],             2*dq[:,1],                      0,                      0],\n",
       "[2*dq[:,0] - 2*dq[:,2], 2*dq[:,1] - 2*dq[:,3], -2*dq[:,0] + 2*dq[:,2], -2*dq[:,1] + 2*dq[:,3]]])"
      ]
     },
     "execution_count": 11,
     "metadata": {},
     "output_type": "execute_result"
    }
   ],
   "source": [
    "phi_q_dq_q = phi_q_dq.jacobian(q)\n",
    "print(phi_q_dq_q.__repr__())\n",
    "phi_q_dq_q"
   ]
  },
  {
   "cell_type": "code",
   "execution_count": 12,
   "metadata": {},
   "outputs": [
    {
     "name": "stdout",
     "output_type": "stream",
     "text": [
      "Matrix([\n",
      "[                                                                                                  2*dq[:,0]**2 + 2*dq[:,1]**2],\n",
      "[2*dq[:,0]*(dq[:,0] - dq[:,2]) + 2*dq[:,1]*(dq[:,1] - dq[:,3]) - 2*dq[:,2]*(dq[:,0] - dq[:,2]) - 2*dq[:,3]*(dq[:,1] - dq[:,3])]])\n"
     ]
    },
    {
     "data": {
      "text/latex": [
       "$\\displaystyle \\left[\\begin{matrix}2 dq[:,0]^{2} + 2 dq[:,1]^{2}\\\\2 dq[:,0] \\left(dq[:,0] - dq[:,2]\\right) + 2 dq[:,1] \\left(dq[:,1] - dq[:,3]\\right) - 2 dq[:,2] \\left(dq[:,0] - dq[:,2]\\right) - 2 dq[:,3] \\left(dq[:,1] - dq[:,3]\\right)\\end{matrix}\\right]$"
      ],
      "text/plain": [
       "Matrix([\n",
       "[                                                                                                  2*dq[:,0]**2 + 2*dq[:,1]**2],\n",
       "[2*dq[:,0]*(dq[:,0] - dq[:,2]) + 2*dq[:,1]*(dq[:,1] - dq[:,3]) - 2*dq[:,2]*(dq[:,0] - dq[:,2]) - 2*dq[:,3]*(dq[:,1] - dq[:,3])]])"
      ]
     },
     "execution_count": 12,
     "metadata": {},
     "output_type": "execute_result"
    }
   ],
   "source": [
    "phi_q_dq_q_dq = phi_q_dq_q*dq\n",
    "print(simplify(phi_q_dq_q_dq).__repr__())\n",
    "simplify(phi_q_dq_q_dq)"
   ]
  },
  {
   "cell_type": "code",
   "execution_count": null,
   "metadata": {},
   "outputs": [],
   "source": []
  },
  {
   "cell_type": "code",
   "execution_count": null,
   "metadata": {},
   "outputs": [],
   "source": []
  },
  {
   "cell_type": "code",
   "execution_count": null,
   "metadata": {},
   "outputs": [],
   "source": []
  }
 ],
 "metadata": {
  "kernelspec": {
   "display_name": "Python 3 (ipykernel)",
   "language": "python",
   "name": "python3"
  },
  "language_info": {
   "codemirror_mode": {
    "name": "ipython",
    "version": 3
   },
   "file_extension": ".py",
   "mimetype": "text/x-python",
   "name": "python",
   "nbconvert_exporter": "python",
   "pygments_lexer": "ipython3",
   "version": "3.9.6"
  }
 },
 "nbformat": 4,
 "nbformat_minor": 1
}
