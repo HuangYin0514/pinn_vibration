{
 "cells": [
  {
   "cell_type": "code",
   "execution_count": 1,
   "metadata": {},
   "outputs": [],
   "source": [
    "from sympy import *"
   ]
  },
  {
   "cell_type": "code",
   "execution_count": 2,
   "metadata": {},
   "outputs": [
    {
     "data": {
      "text/plain": [
       "(Matrix([\n",
       " [q[:,0]],\n",
       " [q[:,1]],\n",
       " [q[:,2]],\n",
       " [q[:,3]]]),\n",
       " Matrix([\n",
       " [dq[:,0]],\n",
       " [dq[:,1]],\n",
       " [dq[:,2]],\n",
       " [dq[:,3]]]))"
      ]
     },
     "execution_count": 2,
     "metadata": {},
     "output_type": "execute_result"
    }
   ],
   "source": [
    "l = Matrix(symbols(r'self.l[0:2]'))\n",
    "q = Matrix(symbols(r'q[\\:\\,0:4]'))\n",
    "qt = Matrix(symbols(r'dq[\\:\\,0:4]'))\n",
    "q, qt"
   ]
  },
  {
   "cell_type": "code",
   "execution_count": 3,
   "metadata": {},
   "outputs": [
    {
     "name": "stdout",
     "output_type": "stream",
     "text": [
      "Matrix([\n",
      "[                       q[:,0]**2 + q[:,1]**2 - self.l[0]**2],\n",
      "[-self.l[1]**2 + (q[:,0] - q[:,2])**2 + (q[:,1] - q[:,3])**2]])\n"
     ]
    },
    {
     "data": {
      "text/latex": [
       "$\\displaystyle \\left[\\begin{matrix}q[:,0]^{2} + q[:,1]^{2} - self.l[0]^{2}\\\\- self.l[1]^{2} + \\left(q[:,0] - q[:,2]\\right)^{2} + \\left(q[:,1] - q[:,3]\\right)^{2}\\end{matrix}\\right]$"
      ],
      "text/plain": [
       "Matrix([\n",
       "[                       q[:,0]**2 + q[:,1]**2 - self.l[0]**2],\n",
       "[-self.l[1]**2 + (q[:,0] - q[:,2])**2 + (q[:,1] - q[:,3])**2]])"
      ]
     },
     "execution_count": 3,
     "metadata": {},
     "output_type": "execute_result"
    }
   ],
   "source": [
    "phi=Matrix([q[0]**2+q[1]**2-l[0]**2, (q[0]-q[2])**2+(q[1]-q[3])**2-l[1]**2])\n",
    "print(phi.__repr__())\n",
    "phi"
   ]
  },
  {
   "cell_type": "code",
   "execution_count": 4,
   "metadata": {},
   "outputs": [
    {
     "name": "stdout",
     "output_type": "stream",
     "text": [
      "Matrix([\n",
      "[           2*q[:,0],            2*q[:,1],                    0,                    0],\n",
      "[2*q[:,0] - 2*q[:,2], 2*q[:,1] - 2*q[:,3], -2*q[:,0] + 2*q[:,2], -2*q[:,1] + 2*q[:,3]]])\n"
     ]
    },
    {
     "data": {
      "text/latex": [
       "$\\displaystyle \\left[\\begin{matrix}2 q[:,0] & 2 q[:,1] & 0 & 0\\\\2 q[:,0] - 2 q[:,2] & 2 q[:,1] - 2 q[:,3] & - 2 q[:,0] + 2 q[:,2] & - 2 q[:,1] + 2 q[:,3]\\end{matrix}\\right]$"
      ],
      "text/plain": [
       "Matrix([\n",
       "[           2*q[:,0],            2*q[:,1],                    0,                    0],\n",
       "[2*q[:,0] - 2*q[:,2], 2*q[:,1] - 2*q[:,3], -2*q[:,0] + 2*q[:,2], -2*q[:,1] + 2*q[:,3]]])"
      ]
     },
     "execution_count": 4,
     "metadata": {},
     "output_type": "execute_result"
    }
   ],
   "source": [
    "phi_q = phi.jacobian(q)\n",
    "print(phi_q.__repr__())\n",
    "phi_q"
   ]
  },
  {
   "cell_type": "code",
   "execution_count": 5,
   "metadata": {},
   "outputs": [
    {
     "name": "stdout",
     "output_type": "stream",
     "text": [
      "Matrix([[2*dq[:,0]*q[:,0] + 2*dq[:,1]*q[:,1]], [dq[:,0]*(2*q[:,0] - 2*q[:,2]) + dq[:,1]*(2*q[:,1] - 2*q[:,3]) + dq[:,2]*(-2*q[:,0] + 2*q[:,2]) + dq[:,3]*(-2*q[:,1] + 2*q[:,3])]])\n"
     ]
    },
    {
     "data": {
      "text/latex": [
       "$\\displaystyle \\left[\\begin{matrix}2 dq[:,0] q[:,0] + 2 dq[:,1] q[:,1]\\\\dq[:,0] \\left(2 q[:,0] - 2 q[:,2]\\right) + dq[:,1] \\left(2 q[:,1] - 2 q[:,3]\\right) + dq[:,2] \\left(- 2 q[:,0] + 2 q[:,2]\\right) + dq[:,3] \\left(- 2 q[:,1] + 2 q[:,3]\\right)\\end{matrix}\\right]$"
      ],
      "text/plain": [
       "Matrix([\n",
       "[                                                                                            2*dq[:,0]*q[:,0] + 2*dq[:,1]*q[:,1]],\n",
       "[dq[:,0]*(2*q[:,0] - 2*q[:,2]) + dq[:,1]*(2*q[:,1] - 2*q[:,3]) + dq[:,2]*(-2*q[:,0] + 2*q[:,2]) + dq[:,3]*(-2*q[:,1] + 2*q[:,3])]])"
      ]
     },
     "execution_count": 5,
     "metadata": {},
     "output_type": "execute_result"
    }
   ],
   "source": [
    "phi_q_dq = phi_q*qt\n",
    "print(phi_q_dq)\n",
    "phi_q_dq"
   ]
  },
  {
   "cell_type": "code",
   "execution_count": 6,
   "metadata": {},
   "outputs": [
    {
     "name": "stdout",
     "output_type": "stream",
     "text": [
      "Matrix([\n",
      "[            2*dq[:,0],             2*dq[:,1],                      0,                      0],\n",
      "[2*dq[:,0] - 2*dq[:,2], 2*dq[:,1] - 2*dq[:,3], -2*dq[:,0] + 2*dq[:,2], -2*dq[:,1] + 2*dq[:,3]]])\n"
     ]
    },
    {
     "data": {
      "text/latex": [
       "$\\displaystyle \\left[\\begin{matrix}2 dq[:,0] & 2 dq[:,1] & 0 & 0\\\\2 dq[:,0] - 2 dq[:,2] & 2 dq[:,1] - 2 dq[:,3] & - 2 dq[:,0] + 2 dq[:,2] & - 2 dq[:,1] + 2 dq[:,3]\\end{matrix}\\right]$"
      ],
      "text/plain": [
       "Matrix([\n",
       "[            2*dq[:,0],             2*dq[:,1],                      0,                      0],\n",
       "[2*dq[:,0] - 2*dq[:,2], 2*dq[:,1] - 2*dq[:,3], -2*dq[:,0] + 2*dq[:,2], -2*dq[:,1] + 2*dq[:,3]]])"
      ]
     },
     "execution_count": 6,
     "metadata": {},
     "output_type": "execute_result"
    }
   ],
   "source": [
    "phi_q_dq_q = phi_q_dq.jacobian(q)\n",
    "print(phi_q_dq_q.__repr__())\n",
    "phi_q_dq_q"
   ]
  },
  {
   "cell_type": "code",
   "execution_count": 7,
   "metadata": {},
   "outputs": [
    {
     "name": "stdout",
     "output_type": "stream",
     "text": [
      "Matrix([\n",
      "[                                                                                                  2*dq[:,0]**2 + 2*dq[:,1]**2],\n",
      "[2*dq[:,0]*(dq[:,0] - dq[:,2]) + 2*dq[:,1]*(dq[:,1] - dq[:,3]) - 2*dq[:,2]*(dq[:,0] - dq[:,2]) - 2*dq[:,3]*(dq[:,1] - dq[:,3])]])\n"
     ]
    },
    {
     "data": {
      "text/latex": [
       "$\\displaystyle \\left[\\begin{matrix}2 dq[:,0]^{2} + 2 dq[:,1]^{2}\\\\2 dq[:,0] \\left(dq[:,0] - dq[:,2]\\right) + 2 dq[:,1] \\left(dq[:,1] - dq[:,3]\\right) - 2 dq[:,2] \\left(dq[:,0] - dq[:,2]\\right) - 2 dq[:,3] \\left(dq[:,1] - dq[:,3]\\right)\\end{matrix}\\right]$"
      ],
      "text/plain": [
       "Matrix([\n",
       "[                                                                                                  2*dq[:,0]**2 + 2*dq[:,1]**2],\n",
       "[2*dq[:,0]*(dq[:,0] - dq[:,2]) + 2*dq[:,1]*(dq[:,1] - dq[:,3]) - 2*dq[:,2]*(dq[:,0] - dq[:,2]) - 2*dq[:,3]*(dq[:,1] - dq[:,3])]])"
      ]
     },
     "execution_count": 7,
     "metadata": {},
     "output_type": "execute_result"
    }
   ],
   "source": [
    "phi_q_dq_q_dq = phi_q_dq_q*qt\n",
    "print(simplify(phi_q_dq_q_dq).__repr__())\n",
    "simplify(phi_q_dq_q_dq)"
   ]
  },
  {
   "cell_type": "code",
   "execution_count": null,
   "metadata": {},
   "outputs": [],
   "source": []
  }
 ],
 "metadata": {
  "kernelspec": {
   "display_name": "Python 3 (ipykernel)",
   "language": "python",
   "name": "python3"
  },
  "language_info": {
   "codemirror_mode": {
    "name": "ipython",
    "version": 3
   },
   "file_extension": ".py",
   "mimetype": "text/x-python",
   "name": "python",
   "nbconvert_exporter": "python",
   "pygments_lexer": "ipython3",
   "version": "3.9.6"
  }
 },
 "nbformat": 4,
 "nbformat_minor": 4
}
