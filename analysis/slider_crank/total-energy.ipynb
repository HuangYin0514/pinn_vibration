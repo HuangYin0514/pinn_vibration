{
 "cells": [
  {
   "cell_type": "code",
   "execution_count": 1,
   "id": "8f992e30",
   "metadata": {},
   "outputs": [
    {
     "name": "stdout",
     "output_type": "stream",
     "text": [
      "/home/lbu/project/PINN_DE\n"
     ]
    }
   ],
   "source": [
    "import numpy as np\n",
    "import os\n",
    "import glob\n",
    "import sys\n",
    "import torch\n",
    "from pathlib import Path\n",
    "\n",
    "current_dir = os.path.dirname(os.path.abspath('__file__'))\n",
    "parent_dir = os.path.abspath(os.path.join(current_dir, '..'))\n",
    "sys.path.append(parent_dir)\n",
    "grandparent_dir = os.path.abspath(os.path.join(parent_dir, '..'))\n",
    "sys.path.append(grandparent_dir)\n",
    "print(grandparent_dir)\n",
    "\n",
    "import gendata\n",
    "import learner as ln\n",
    "from learner.metric.dynamics_metric import (\n",
    "    calculate_dynamics_metrics,\n",
    "    plot_dynamics_metrics,\n",
    ")\n",
    "from utils import Logger, read_config_file, set_random_seed, tensors_to_numpy"
   ]
  },
  {
   "cell_type": "code",
   "execution_count": 2,
   "id": "e7d0b4a4-d8bc-45dd-a498-b8b832ea4368",
   "metadata": {},
   "outputs": [
    {
     "name": "stderr",
     "output_type": "stream",
     "text": [
      "2023-08-25 21:09:34 INFO ####################################################################################################\n"
     ]
    }
   ],
   "source": [
    "from configs.config_plot import *\n",
    "\n",
    "seed = 0\n",
    "set_random_seed(seed)\n",
    "\n",
    "os.makedirs(output_dir, exist_ok=True)  \n",
    "\n",
    "# Logger\n",
    "logger = Logger(output_dir)\n",
    "logger.info(\"#\" * 100)"
   ]
  },
  {
   "cell_type": "code",
   "execution_count": 3,
   "id": "8f4ace61-a492-4da0-bba1-9be70a1be19a",
   "metadata": {},
   "outputs": [
    {
     "name": "stderr",
     "output_type": "stream",
     "text": [
      "2023-08-25 21:09:34 INFO =================>\n",
      "2023-08-25 21:09:34 INFO Start get dataset...\n",
      "2023-08-25 21:09:34 INFO Loading dataset from path: /home/lbu/project/PINN_DE/outputs/data/DynamicSliderCrankDAE\n",
      "2023-08-25 21:09:34 INFO DynamicData is loaded\n",
      "2023-08-25 21:09:34 INFO Mean energy error: 9.2349e-09 | Max energy error: 1.8048e-04 | Phi error: 2.6718e-06 | Phi_t error: 1.8666e-06 | Phi_tt error: 6.4393e-14\n"
     ]
    }
   ],
   "source": [
    "##################################################################\n",
    "#\n",
    "# load data\n",
    "#\n",
    "##################################################################\n",
    "# Dasetset  \n",
    "# config_file_path = \"/home/lbu/project/PINN_DE/configs/train/sp/config_pinn.py\"\n",
    "# config = read_config_file(config_file_path)\n",
    "# config.dataset_path = \"/home/lbu/project/PINN_DE/outputs/data/DynamicSinglePendulumDAE\"\n",
    "# config.load_net_path = \"/home/lbu/project/PINN_DE/outputs/task_singlependlum_pinn/train-model.pkl\"\n",
    "\n",
    "# config_file_path = \"/home/lbu/project/PINN_DE/configs/train/dp/config_pinn.py\"\n",
    "# config = read_config_file(config_file_path)\n",
    "# config.dataset_path = \"/home/lbu/project/PINN_DE/outputs/data/DynamicDoublePendulumDAE\"\n",
    "# config.load_net_path = \"/home/lbu/project/PINN_DE/outputs/task_doublependlum_pinn/train-model.pkl\"\n",
    "\n",
    "config_file_path = \"/home/lbu/project/PINN_DE/configs/train/slider_crank/config_pinn.py\"\n",
    "config = read_config_file(config_file_path)\n",
    "config.dataset_path = \"/home/lbu/project/PINN_DE/outputs/data/DynamicSliderCrankDAE\"\n",
    "config.load_net_path = \"/home/lbu/project/PINN_DE/outputs/task_slider_crank_pinn/train-model.pkl\"\n",
    "\n",
    "# config_file_path = \"/home/lbu/project/PINN_DE/configs/train/two_link/config_pinn.py\"\n",
    "# config = read_config_file(config_file_path)\n",
    "# config.dataset_path = \"/home/lbu/project/PINN_DE/outputs/data/DynamicTwoLinkDAE\"\n",
    "# config.load_net_path = \"/home/lbu/project/PINN_DE/outputs/task_TwoLink_pinn/train-model.pkl\"\n",
    "\n",
    "data_args = {\n",
    "    \"config\": config,\n",
    "    \"logger\": logger,\n",
    "}\n",
    "data = ln.data.get_data(**data_args)\n",
    "train_loader, val_loader = data\n",
    "y0, y, yt, data_t, physics_t = next(iter(val_loader))\n",
    "\n",
    "data_t, y, yt = tensors_to_numpy(data_t, y, yt)\n",
    "q, qt = np.split(y, 2, axis=-1)\n",
    "qt, qtt = np.split(yt, 2, axis=-1)\n",
    "all_states = np.concatenate([q, qt, qtt], axis=-1)\n",
    "\n",
    "##################################################################\n",
    "#\n",
    "# Calculate the error\n",
    "#\n",
    "##################################################################\n",
    "# from dynamics import DynamicSinglePendulumDAE\n",
    "# calculator = DynamicSinglePendulumDAE(config, logger).calculator\n",
    "\n",
    "# from dynamics import DynamicDoublePendulumDAE\n",
    "# calculator = DynamicDoublePendulumDAE(config, logger).calculator\n",
    "\n",
    "from dynamics import DynamicSliderCrankDAE\n",
    "calculator = DynamicSliderCrankDAE(config, logger).calculator\n",
    "\n",
    "# from dynamics import DynamicTwoLinkDAE\n",
    "# calculator = DynamicTwoLinkDAE(config, logger).calculator\n",
    "\n",
    "(\n",
    "    metric_value,\n",
    "    metric_error_value,\n",
    "    output_log_string,\n",
    ") = calculate_dynamics_metrics(\n",
    "    calculator=calculator,\n",
    "    pred_data=[q, qt, qtt],\n",
    "    gt_data=[q, qt, qtt],\n",
    ")\n",
    "energy_rk4, kinetic, potential, phi, phi_t, phi_tt = metric_value\n",
    "mean_energy_error, max_energy_error, phi_error, phi_t_error, phi_tt_error = metric_error_value\n",
    "output_metric = \" | \".join(output_log_string)\n",
    "logger.info(output_metric)"
   ]
  },
  {
   "cell_type": "code",
   "execution_count": 4,
   "id": "18fe5aac-9c1b-471a-9457-0b8ec34f5db3",
   "metadata": {},
   "outputs": [
    {
     "name": "stderr",
     "output_type": "stream",
     "text": [
      "2023-08-25 21:09:34 INFO =================>\n",
      "2023-08-25 21:09:34 INFO Start get dataset...\n",
      "2023-08-25 21:09:34 INFO Loading dataset from path: /home/lbu/project/PINN_DE/outputs/data/DynamicSliderCrankDAE\n",
      "2023-08-25 21:09:34 INFO DynamicData is loaded\n",
      "2023-08-25 21:09:34 INFO =================>\n",
      "2023-08-25 21:09:34 INFO Start get models...\n",
      "2023-08-25 21:09:34 INFO PINN loaded\n",
      "2023-08-25 21:09:34 INFO Number of parameters in model: 1440\n",
      "2023-08-25 21:09:34 INFO Network loaded from '/home/lbu/project/PINN_DE/outputs/task_slider_crank_pinn/train-model.pkl'\n",
      "2023-08-25 21:09:34 INFO Mean energy error: 2.5386e-03 | Max energy error: 2.0387e-01 | Phi error: 1.3719e-02 | Phi_t error: 2.1449e-02 | Phi_tt error: 4.3947e-01\n"
     ]
    },
    {
     "name": "stdout",
     "output_type": "stream",
     "text": [
      "Successfully loaded pretrained weights from \"/home/lbu/project/PINN_DE/outputs/task_slider_crank_pinn/train-model.pkl\"\n"
     ]
    }
   ],
   "source": [
    "##################################################################\n",
    "#\n",
    "# load data and net\n",
    "#\n",
    "##################################################################\n",
    "# Dasetset  \n",
    "# config_file_path = \"/home/lbu/project/PINN_DE/configs/train/sp/config_pinn.py\"\n",
    "# config = read_config_file(config_file_path)\n",
    "# config.dataset_path = \"/home/lbu/project/PINN_DE/outputs/data/DynamicSinglePendulumDAE\"\n",
    "# config.load_net_path = \"/home/lbu/project/PINN_DE/outputs/task_singlependlum_pinn/train-model.pkl\"\n",
    "\n",
    "# config_file_path = \"/home/lbu/project/PINN_DE/configs/train/dp/config_pinn.py\"\n",
    "# config = read_config_file(config_file_path)\n",
    "# config.dataset_path = \"/home/lbu/project/PINN_DE/outputs/data/DynamicDoublePendulumDAE\"\n",
    "# config.load_net_path = \"/home/lbu/project/PINN_DE/outputs/task_doublependlum_pinn/train-model.pkl\"\n",
    "\n",
    "config_file_path = \"/home/lbu/project/PINN_DE/configs/train/slider_crank/config_pinn.py\"\n",
    "config = read_config_file(config_file_path)\n",
    "config.dataset_path = \"/home/lbu/project/PINN_DE/outputs/data/DynamicSliderCrankDAE\"\n",
    "config.load_net_path = \"/home/lbu/project/PINN_DE/outputs/task_slider_crank_pinn/train-model.pkl\"\n",
    "\n",
    "# config_file_path = \"/home/lbu/project/PINN_DE/configs/train/two_link/config_pinn.py\"\n",
    "# config = read_config_file(config_file_path)\n",
    "# config.dataset_path = \"/home/lbu/project/PINN_DE/outputs/data/DynamicTwoLinkDAE\"\n",
    "# config.load_net_path = \"/home/lbu/project/PINN_DE/outputs/task_TwoLink_pinn/train-model.pkl\"\n",
    "\n",
    "data_args = {\n",
    "    \"config\": config,\n",
    "    \"logger\": logger,\n",
    "}\n",
    "data = ln.data.get_data(**data_args)\n",
    "train_loader, val_loader = data\n",
    "y0, y, yt, data_t, physics_t = next(iter(val_loader))\n",
    "\n",
    "# Net \n",
    "net_args = {\n",
    "    \"config\": config,\n",
    "    \"logger\": logger,\n",
    "}\n",
    "net = ln.nn.get_model(**net_args)\n",
    "q_hat, qt_hat, qtt_hat = net.get_q_qt_qtt(data_t)\n",
    "\n",
    "##################################################################\n",
    "#\n",
    "# Calculate the error\n",
    "#\n",
    "##################################################################\n",
    "# to numpy \n",
    "data_t = tensors_to_numpy(data_t)\n",
    "q, qt = np.split(y, 2, axis=-1)\n",
    "qt, qtt = np.split(yt, 2, axis=-1)\n",
    "q, qt, qtt = tensors_to_numpy(q, qt, qtt)\n",
    "all_states = np.concatenate([q, qt, qtt], axis=-1)\n",
    "\n",
    "q_hat, qt_hat, qtt_hat = tensors_to_numpy(q_hat, qt_hat, qtt_hat)\n",
    "all_states_hat = np.concatenate([q_hat, qt_hat, qtt_hat], axis=-1)\n",
    "\n",
    "# Calculate energy and other terms using the physics model\n",
    "(\n",
    "    metric_value,\n",
    "    metric_error_value,\n",
    "    output_log_string,\n",
    ") = calculate_dynamics_metrics(\n",
    "    calculator=net.right_term_net.calculator,\n",
    "    pred_data=[q_hat, qt_hat, qtt_hat],\n",
    "    gt_data=[q, qt, qtt],\n",
    ")\n",
    "\n",
    "energy_pinn, kinetic, potential, phi, phi_t, phi_tt = metric_value\n",
    "mean_energy_error, max_energy_error, phi_error, phi_t_error, phi_tt_error = metric_error_value\n",
    "output_metric = \" | \".join(output_log_string)\n",
    "logger.info(output_metric)"
   ]
  },
  {
   "cell_type": "code",
   "execution_count": 5,
   "id": "2e598035-1fa5-4ac2-95a4-36ca61ba97ef",
   "metadata": {},
   "outputs": [
    {
     "data": {
      "image/png": "[encoded data removed]",
      "text/plain": [
       "<Figure size 200x150 with 1 Axes>"
      ]
     },
     "metadata": {},
     "output_type": "display_data"
    }
   ],
   "source": [
    "fig, axs = plt.subplots(1, 1, figsize=(4 * 1, 3 * 1), dpi=DPI)\n",
    "\n",
    "subfig = axs\n",
    "subfig.set_title('(a)')\n",
    "plt.xlabel('Time (s)')\n",
    "plt.ylabel('Total energy (N m)')\n",
    "subfig.plot(data_t, energy_rk4, '-', label='RK4, h=0.01')\n",
    "subfig.plot(data_t, energy_pinn, '-', label='PINN')\n",
    "subfig.legend()\n",
    "\n",
    "# plt.ylim((-20.2, 20.2))\n",
    "plt.tight_layout()\n"
   ]
  },
  {
   "cell_type": "code",
   "execution_count": null,
   "id": "d34cb489-a5fd-41d1-81ea-cd9faac88edb",
   "metadata": {},
   "outputs": [],
   "source": []
  }
 ],
 "metadata": {
  "kernelspec": {
   "display_name": "Python 3 (ipykernel)",
   "language": "python",
   "name": "python3"
  },
  "language_info": {
   "codemirror_mode": {
    "name": "ipython",
    "version": 3
   },
   "file_extension": ".py",
   "mimetype": "text/x-python",
   "name": "python",
   "nbconvert_exporter": "python",
   "pygments_lexer": "ipython3",
   "version": "3.9.6"
  }
 },
 "nbformat": 4,
 "nbformat_minor": 5
}
