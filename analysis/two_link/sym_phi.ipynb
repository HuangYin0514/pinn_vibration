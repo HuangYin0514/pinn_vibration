{
 "cells": [
  {
   "cell_type": "code",
   "execution_count": 1,
   "metadata": {},
   "outputs": [],
   "source": [
    "from sympy import *"
   ]
  },
  {
   "cell_type": "code",
   "execution_count": 2,
   "metadata": {},
   "outputs": [
    {
     "data": {
      "text/plain": [
       "(Matrix([\n",
       " [q[:,0]],\n",
       " [q[:,1]],\n",
       " [q[:,2]],\n",
       " [q[:,3]],\n",
       " [q[:,4]],\n",
       " [q[:,5]]]),\n",
       " Matrix([\n",
       " [qt[:,0]],\n",
       " [qt[:,1]],\n",
       " [qt[:,2]],\n",
       " [qt[:,3]],\n",
       " [qt[:,4]],\n",
       " [qt[:,5]]]),\n",
       " Matrix([\n",
       " [self.l[0]],\n",
       " [self.l[1]]]))"
      ]
     },
     "execution_count": 2,
     "metadata": {},
     "output_type": "execute_result"
    }
   ],
   "source": [
    "l = Matrix(symbols(r'self.l[0:2]'))\n",
    "q = Matrix(symbols(r'q[\\:\\,0:6]'))\n",
    "qt = Matrix(symbols(r'qt[\\:\\,0:6]'))\n",
    "q, qt, l"
   ]
  },
  {
   "cell_type": "code",
   "execution_count": 3,
   "metadata": {},
   "outputs": [
    {
     "name": "stdout",
     "output_type": "stream",
     "text": [
      "Matrix([\n",
      "[                        q[:,0] - self.l[0]*cos(q[:,2])/2],\n",
      "[                        q[:,1] - self.l[0]*sin(q[:,2])/2],\n",
      "[q[:,3] - self.l[0]*cos(q[:,2]) - self.l[1]*cos(q[:,5])/2],\n",
      "[q[:,4] - self.l[0]*sin(q[:,2]) - self.l[1]*sin(q[:,5])/2]])\n"
     ]
    },
    {
     "data": {
      "text/latex": [
       "$\\displaystyle \\left[\\begin{matrix}q[:,0] - \\frac{self.l[0] \\cos{\\left(q[:,2] \\right)}}{2}\\\\q[:,1] - \\frac{self.l[0] \\sin{\\left(q[:,2] \\right)}}{2}\\\\q[:,3] - self.l[0] \\cos{\\left(q[:,2] \\right)} - \\frac{self.l[1] \\cos{\\left(q[:,5] \\right)}}{2}\\\\q[:,4] - self.l[0] \\sin{\\left(q[:,2] \\right)} - \\frac{self.l[1] \\sin{\\left(q[:,5] \\right)}}{2}\\end{matrix}\\right]$"
      ],
      "text/plain": [
       "Matrix([\n",
       "[                        q[:,0] - self.l[0]*cos(q[:,2])/2],\n",
       "[                        q[:,1] - self.l[0]*sin(q[:,2])/2],\n",
       "[q[:,3] - self.l[0]*cos(q[:,2]) - self.l[1]*cos(q[:,5])/2],\n",
       "[q[:,4] - self.l[0]*sin(q[:,2]) - self.l[1]*sin(q[:,5])/2]])"
      ]
     },
     "execution_count": 3,
     "metadata": {},
     "output_type": "execute_result"
    }
   ],
   "source": [
    "phi=Matrix([\n",
    "    q[0] - l[0] / 2 * cos(q[2]),\n",
    "    q[1] - l[0] / 2 * sin(q[2]),\n",
    "    q[3] - l[0] * cos(q[2]) - l[1] / 2 * cos(q[5]),\n",
    "    q[4] - l[0] * sin(q[2]) - l[1] / 2 * sin(q[5]),\n",
    "])\n",
    "print(phi.__repr__())\n",
    "phi"
   ]
  },
  {
   "cell_type": "code",
   "execution_count": 4,
   "metadata": {},
   "outputs": [
    {
     "name": "stdout",
     "output_type": "stream",
     "text": [
      "Matrix([\n",
      "[1, 0,  self.l[0]*sin(q[:,2])/2, 0, 0,                        0],\n",
      "[0, 1, -self.l[0]*cos(q[:,2])/2, 0, 0,                        0],\n",
      "[0, 0,    self.l[0]*sin(q[:,2]), 1, 0,  self.l[1]*sin(q[:,5])/2],\n",
      "[0, 0,   -self.l[0]*cos(q[:,2]), 0, 1, -self.l[1]*cos(q[:,5])/2]])\n"
     ]
    },
    {
     "data": {
      "text/latex": [
       "$\\displaystyle \\left[\\begin{matrix}1 & 0 & \\frac{self.l[0] \\sin{\\left(q[:,2] \\right)}}{2} & 0 & 0 & 0\\\\0 & 1 & - \\frac{self.l[0] \\cos{\\left(q[:,2] \\right)}}{2} & 0 & 0 & 0\\\\0 & 0 & self.l[0] \\sin{\\left(q[:,2] \\right)} & 1 & 0 & \\frac{self.l[1] \\sin{\\left(q[:,5] \\right)}}{2}\\\\0 & 0 & - self.l[0] \\cos{\\left(q[:,2] \\right)} & 0 & 1 & - \\frac{self.l[1] \\cos{\\left(q[:,5] \\right)}}{2}\\end{matrix}\\right]$"
      ],
      "text/plain": [
       "Matrix([\n",
       "[1, 0,  self.l[0]*sin(q[:,2])/2, 0, 0,                        0],\n",
       "[0, 1, -self.l[0]*cos(q[:,2])/2, 0, 0,                        0],\n",
       "[0, 0,    self.l[0]*sin(q[:,2]), 1, 0,  self.l[1]*sin(q[:,5])/2],\n",
       "[0, 0,   -self.l[0]*cos(q[:,2]), 0, 1, -self.l[1]*cos(q[:,5])/2]])"
      ]
     },
     "execution_count": 4,
     "metadata": {},
     "output_type": "execute_result"
    }
   ],
   "source": [
    "phi_q = phi.jacobian(q)\n",
    "print(phi_q.__repr__())\n",
    "phi_q"
   ]
  },
  {
   "cell_type": "code",
   "execution_count": 5,
   "metadata": {},
   "outputs": [
    {
     "name": "stdout",
     "output_type": "stream",
     "text": [
      "Matrix([[qt[:,0] + qt[:,2]*self.l[0]*sin(q[:,2])/2], [qt[:,1] - qt[:,2]*self.l[0]*cos(q[:,2])/2], [qt[:,2]*self.l[0]*sin(q[:,2]) + qt[:,3] + qt[:,5]*self.l[1]*sin(q[:,5])/2], [-qt[:,2]*self.l[0]*cos(q[:,2]) + qt[:,4] - qt[:,5]*self.l[1]*cos(q[:,5])/2]])\n"
     ]
    },
    {
     "data": {
      "text/latex": [
       "$\\displaystyle \\left[\\begin{matrix}qt[:,0] + \\frac{qt[:,2] self.l[0] \\sin{\\left(q[:,2] \\right)}}{2}\\\\qt[:,1] - \\frac{qt[:,2] self.l[0] \\cos{\\left(q[:,2] \\right)}}{2}\\\\qt[:,2] self.l[0] \\sin{\\left(q[:,2] \\right)} + qt[:,3] + \\frac{qt[:,5] self.l[1] \\sin{\\left(q[:,5] \\right)}}{2}\\\\- qt[:,2] self.l[0] \\cos{\\left(q[:,2] \\right)} + qt[:,4] - \\frac{qt[:,5] self.l[1] \\cos{\\left(q[:,5] \\right)}}{2}\\end{matrix}\\right]$"
      ],
      "text/plain": [
       "Matrix([\n",
       "[                                 qt[:,0] + qt[:,2]*self.l[0]*sin(q[:,2])/2],\n",
       "[                                 qt[:,1] - qt[:,2]*self.l[0]*cos(q[:,2])/2],\n",
       "[ qt[:,2]*self.l[0]*sin(q[:,2]) + qt[:,3] + qt[:,5]*self.l[1]*sin(q[:,5])/2],\n",
       "[-qt[:,2]*self.l[0]*cos(q[:,2]) + qt[:,4] - qt[:,5]*self.l[1]*cos(q[:,5])/2]])"
      ]
     },
     "execution_count": 5,
     "metadata": {},
     "output_type": "execute_result"
    }
   ],
   "source": [
    "phi_q_qt = phi_q*qt\n",
    "print(phi_q_qt)\n",
    "phi_q_qt"
   ]
  },
  {
   "cell_type": "code",
   "execution_count": 6,
   "metadata": {},
   "outputs": [
    {
     "name": "stdout",
     "output_type": "stream",
     "text": [
      "Matrix([\n",
      "[0, 0, qt[:,2]*self.l[0]*cos(q[:,2])/2, 0, 0,                               0],\n",
      "[0, 0, qt[:,2]*self.l[0]*sin(q[:,2])/2, 0, 0,                               0],\n",
      "[0, 0,   qt[:,2]*self.l[0]*cos(q[:,2]), 0, 0, qt[:,5]*self.l[1]*cos(q[:,5])/2],\n",
      "[0, 0,   qt[:,2]*self.l[0]*sin(q[:,2]), 0, 0, qt[:,5]*self.l[1]*sin(q[:,5])/2]])\n"
     ]
    },
    {
     "data": {
      "text/latex": [
       "$\\displaystyle \\left[\\begin{matrix}0 & 0 & \\frac{qt[:,2] self.l[0] \\cos{\\left(q[:,2] \\right)}}{2} & 0 & 0 & 0\\\\0 & 0 & \\frac{qt[:,2] self.l[0] \\sin{\\left(q[:,2] \\right)}}{2} & 0 & 0 & 0\\\\0 & 0 & qt[:,2] self.l[0] \\cos{\\left(q[:,2] \\right)} & 0 & 0 & \\frac{qt[:,5] self.l[1] \\cos{\\left(q[:,5] \\right)}}{2}\\\\0 & 0 & qt[:,2] self.l[0] \\sin{\\left(q[:,2] \\right)} & 0 & 0 & \\frac{qt[:,5] self.l[1] \\sin{\\left(q[:,5] \\right)}}{2}\\end{matrix}\\right]$"
      ],
      "text/plain": [
       "Matrix([\n",
       "[0, 0, qt[:,2]*self.l[0]*cos(q[:,2])/2, 0, 0,                               0],\n",
       "[0, 0, qt[:,2]*self.l[0]*sin(q[:,2])/2, 0, 0,                               0],\n",
       "[0, 0,   qt[:,2]*self.l[0]*cos(q[:,2]), 0, 0, qt[:,5]*self.l[1]*cos(q[:,5])/2],\n",
       "[0, 0,   qt[:,2]*self.l[0]*sin(q[:,2]), 0, 0, qt[:,5]*self.l[1]*sin(q[:,5])/2]])"
      ]
     },
     "execution_count": 6,
     "metadata": {},
     "output_type": "execute_result"
    }
   ],
   "source": [
    "phi_q_qt_q = phi_q_qt.jacobian(q)\n",
    "print(phi_q_qt_q.__repr__())\n",
    "phi_q_qt_q"
   ]
  },
  {
   "cell_type": "code",
   "execution_count": 7,
   "metadata": {},
   "outputs": [
    {
     "name": "stdout",
     "output_type": "stream",
     "text": [
      "Matrix([\n",
      "[                                   qt[:,2]**2*self.l[0]*cos(q[:,2])/2],\n",
      "[                                   qt[:,2]**2*self.l[0]*sin(q[:,2])/2],\n",
      "[qt[:,2]**2*self.l[0]*cos(q[:,2]) + qt[:,5]**2*self.l[1]*cos(q[:,5])/2],\n",
      "[qt[:,2]**2*self.l[0]*sin(q[:,2]) + qt[:,5]**2*self.l[1]*sin(q[:,5])/2]])\n"
     ]
    },
    {
     "data": {
      "text/latex": [
       "$\\displaystyle \\left[\\begin{matrix}\\frac{qt[:,2]^{2} self.l[0] \\cos{\\left(q[:,2] \\right)}}{2}\\\\\\frac{qt[:,2]^{2} self.l[0] \\sin{\\left(q[:,2] \\right)}}{2}\\\\qt[:,2]^{2} self.l[0] \\cos{\\left(q[:,2] \\right)} + \\frac{qt[:,5]^{2} self.l[1] \\cos{\\left(q[:,5] \\right)}}{2}\\\\qt[:,2]^{2} self.l[0] \\sin{\\left(q[:,2] \\right)} + \\frac{qt[:,5]^{2} self.l[1] \\sin{\\left(q[:,5] \\right)}}{2}\\end{matrix}\\right]$"
      ],
      "text/plain": [
       "Matrix([\n",
       "[                                   qt[:,2]**2*self.l[0]*cos(q[:,2])/2],\n",
       "[                                   qt[:,2]**2*self.l[0]*sin(q[:,2])/2],\n",
       "[qt[:,2]**2*self.l[0]*cos(q[:,2]) + qt[:,5]**2*self.l[1]*cos(q[:,5])/2],\n",
       "[qt[:,2]**2*self.l[0]*sin(q[:,2]) + qt[:,5]**2*self.l[1]*sin(q[:,5])/2]])"
      ]
     },
     "execution_count": 7,
     "metadata": {},
     "output_type": "execute_result"
    }
   ],
   "source": [
    "phi_q_qt_q_qt = phi_q_qt_q*qt\n",
    "print(simplify(phi_q_qt_q_qt).__repr__())\n",
    "simplify(phi_q_qt_q_qt)"
   ]
  },
  {
   "cell_type": "code",
   "execution_count": null,
   "metadata": {},
   "outputs": [],
   "source": []
  }
 ],
 "metadata": {
  "kernelspec": {
   "display_name": "Python 3 (ipykernel)",
   "language": "python",
   "name": "python3"
  },
  "language_info": {
   "codemirror_mode": {
    "name": "ipython",
    "version": 3
   },
   "file_extension": ".py",
   "mimetype": "text/x-python",
   "name": "python",
   "nbconvert_exporter": "python",
   "pygments_lexer": "ipython3",
   "version": "3.9.6"
  }
 },
 "nbformat": 4,
 "nbformat_minor": 4
}
